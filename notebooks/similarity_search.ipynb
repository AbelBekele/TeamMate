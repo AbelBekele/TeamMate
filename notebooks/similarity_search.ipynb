{
 "cells": [
  {
   "cell_type": "code",
   "execution_count": null,
   "metadata": {},
   "outputs": [],
   "source": [
    "import os\n",
    "from dotenv import load_dotenv\n",
    "import weaviate\n",
    "\n",
    "load_dotenv(override=True)"
   ]
  },
  {
   "cell_type": "code",
   "execution_count": null,
   "metadata": {},
   "outputs": [],
   "source": [
    "api_key = os.environ[\"OPENAI_API_KEY\"]\n",
    "weaviate_url = os.environ[\"WEAVIATE_URL\"]\n",
    "\n",
    "client = weaviate.Client(\n",
    "    url=weaviate_url,  # Replace with your actual instance (e.g. url=\"http://localhost:8080/\", or \"https://your-endpoint.weaviate.network/\")\n",
    "    additional_headers={\n",
    "        \"X-OpenAI-API-Key\": api_key\n",
    "    }\n",
    ")"
   ]
  },
  {
   "cell_type": "code",
   "execution_count": null,
   "metadata": {},
   "outputs": [],
   "source": [
    "def search(query):\n",
    "    print(\"Received data:\", query)\n",
    "    try:\n",
    "        print(\"Querying Weaviate directly...\")\n",
    "\n",
    "        search_results = client.query.get(\"All_nov_jobs\", [\"description\", \"title\"]).with_limit(10).with_near_text({\"concepts\": [query]}).do()\n",
    "        print(\"Search results:\", search_results)\n",
    "        \n",
    "        return search_results\n",
    "\n",
    "    except Exception as e:\n",
    "        print(f'Error in /search: {e}')\n",
    "        return {\"error\": str(e)}"
   ]
  },
  {
   "cell_type": "code",
   "execution_count": null,
   "metadata": {},
   "outputs": [],
   "source": [
    "# Use the search function\n",
    "query = \"Software engineer\"\n",
    "search_results = search(query)\n",
    "\n",
    "# Print the search results\n",
    "if 'error' in search_results:\n",
    "    print(\"An error occurred:\", search_results['error'])\n",
    "else:\n",
    "    print(\"Search results:\", search_results)"
   ]
  },
  {
   "cell_type": "markdown",
   "metadata": {},
   "source": [
    "# Using langchian"
   ]
  },
  {
   "cell_type": "code",
   "execution_count": null,
   "metadata": {},
   "outputs": [],
   "source": [
    "import weaviate\n",
    "from langchain_weaviate.vectorstores import WeaviateVectorStore"
   ]
  },
  {
   "cell_type": "code",
   "execution_count": null,
   "metadata": {},
   "outputs": [],
   "source": [
    "from langchain.text_splitter import CharacterTextSplitter\n",
    "from langchain_community.document_loaders import TextLoader\n",
    "from langchain_community.embeddings.openai import OpenAIEmbeddings"
   ]
  },
  {
   "cell_type": "code",
   "execution_count": null,
   "metadata": {},
   "outputs": [],
   "source": [
    "embeddings = OpenAIEmbeddings()"
   ]
  },
  {
   "cell_type": "code",
   "execution_count": null,
   "metadata": {},
   "outputs": [],
   "source": [
    "weaviate_client =  weaviate.Client(\n",
    "    url=weaviate_url,  # Replace with your actual instance (e.g. url=\"http://localhost:8080/\", or \"https://your-endpoint.weaviate.network/\")\n",
    "    additional_headers={\n",
    "        \"X-OpenAI-API-Key\": api_key\n",
    "    }\n",
    ")"
   ]
  },
  {
   "cell_type": "code",
   "execution_count": null,
   "metadata": {},
   "outputs": [],
   "source": [
    "import weaviate\n",
    "from langchain_community.vectorstores import Weaviate\n",
    "\n",
    "# client = weaviate.Client(url=os.environ[\"WEAVIATE_URL\"])\n",
    "# weaviate = Weaviate(client, \"All_nov_jobs\", \"title\")"
   ]
  },
  {
   "cell_type": "code",
   "execution_count": 46,
   "metadata": {},
   "outputs": [
    {
     "name": "stderr",
     "output_type": "stream",
     "text": [
      "/root/TeamMate/.venv/lib/python3.11/site-packages/weaviate/warnings.py:162: DeprecationWarning: Dep016: Python client v3 `weaviate.Client(...)` connections and methods are deprecated. Update\n",
      "            your code to use Python client v4 `weaviate.WeaviateClient` connections and methods.\n",
      "\n",
      "            For Python Client v4 usage, see: https://weaviate.io/developers/weaviate/client-libraries/python\n",
      "            For code migration, see: https://weaviate.io/developers/weaviate/client-libraries/python/v3_v4_migration\n",
      "            \n",
      "  warnings.warn(\n",
      "/root/TeamMate/.venv/lib/python3.11/site-packages/langchain/chains/conversational_retrieval/base.py:485: UserWarning: `ChatVectorDBChain` is deprecated - please use `from langchain.chains import ConversationalRetrievalChain`\n",
      "  warnings.warn(\n"
     ]
    },
    {
     "name": "stdout",
     "output_type": "stream",
     "text": [
      "Welcome to the Weaviate ChatVectorDBChain Demo!\n",
      "Please enter a question or dialogue to get started!\n"
     ]
    },
    {
     "name": "stderr",
     "output_type": "stream",
     "text": [
      "/root/TeamMate/.venv/lib/python3.11/site-packages/pydantic/main.py:1070: PydanticDeprecatedSince20: The `dict` method is deprecated; use `model_dump` instead. Deprecated in Pydantic V2.0 to be removed in V3.0. See Pydantic V2 Migration Guide at https://errors.pydantic.dev/2.7/migration/\n",
      "  warnings.warn('The `dict` method is deprecated; use `model_dump` instead.', category=PydanticDeprecatedSince20)\n"
     ]
    },
    {
     "name": "stdout",
     "output_type": "stream",
     "text": [
      " I don't know.\n"
     ]
    },
    {
     "name": "stderr",
     "output_type": "stream",
     "text": [
      "/root/TeamMate/.venv/lib/python3.11/site-packages/pydantic/main.py:1070: PydanticDeprecatedSince20: The `dict` method is deprecated; use `model_dump` instead. Deprecated in Pydantic V2.0 to be removed in V3.0. See Pydantic V2 Migration Guide at https://errors.pydantic.dev/2.7/migration/\n",
      "  warnings.warn('The `dict` method is deprecated; use `model_dump` instead.', category=PydanticDeprecatedSince20)\n",
      "/root/TeamMate/.venv/lib/python3.11/site-packages/pydantic/main.py:1070: PydanticDeprecatedSince20: The `dict` method is deprecated; use `model_dump` instead. Deprecated in Pydantic V2.0 to be removed in V3.0. See Pydantic V2 Migration Guide at https://errors.pydantic.dev/2.7/migration/\n",
      "  warnings.warn('The `dict` method is deprecated; use `model_dump` instead.', category=PydanticDeprecatedSince20)\n"
     ]
    },
    {
     "name": "stdout",
     "output_type": "stream",
     "text": [
      " Yes, I can find you a software job from the titles. The first two titles are for a software engineer, while the second two titles are for a remote software engineer.\n"
     ]
    }
   ],
   "source": [
    "from langchain.vectorstores.weaviate import Weaviate\n",
    "from langchain.llms import OpenAI\n",
    "from langchain.chains import ChatVectorDBChain\n",
    "import weaviate\n",
    "\n",
    "client =  weaviate.Client(\n",
    "    url=weaviate_url,  # Replace with your actual instance (e.g. url=\"http://localhost:8080/\", or \"https://your-endpoint.weaviate.network/\")\n",
    "    additional_headers={\n",
    "        \"X-OpenAI-API-Key\": api_key\n",
    "    })\n",
    "\n",
    "vectorstore = Weaviate(client, \"All_nov_jobs\", \"title\")\n",
    "\n",
    "MyOpenAI = OpenAI(temperature=0.2,\n",
    "    openai_api_key=api_key,)\n",
    "\n",
    "qa = ChatVectorDBChain.from_llm(MyOpenAI, vectorstore)\n",
    "\n",
    "chat_history = []\n",
    "\n",
    "while True:\n",
    "    query = input(\"\")\n",
    "    result = qa({\"question\": query, \"chat_history\": chat_history})\n",
    "    print(result[\"answer\"])\n",
    "    chat_history = [(query, result[\"answer\"])]"
   ]
  }
 ],
 "metadata": {
  "kernelspec": {
   "display_name": ".venv",
   "language": "python",
   "name": "python3"
  },
  "language_info": {
   "codemirror_mode": {
    "name": "ipython",
    "version": 3
   },
   "file_extension": ".py",
   "mimetype": "text/x-python",
   "name": "python",
   "nbconvert_exporter": "python",
   "pygments_lexer": "ipython3",
   "version": "3.11.2"
  }
 },
 "nbformat": 4,
 "nbformat_minor": 2
}
