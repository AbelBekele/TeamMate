{
 "cells": [
  {
   "cell_type": "code",
   "execution_count": 1,
   "metadata": {},
   "outputs": [],
   "source": [
    "import weaviate\n",
    "import os\n",
    "import pandas as pd\n",
    "import numpy as np"
   ]
  },
  {
   "cell_type": "code",
   "execution_count": 2,
   "metadata": {},
   "outputs": [
    {
     "name": "stderr",
     "output_type": "stream",
     "text": [
      "/root/TeamMate/.venv/lib/python3.11/site-packages/weaviate/warnings.py:162: DeprecationWarning: Dep016: Python client v3 `weaviate.Client(...)` connections and methods are deprecated. Update\n",
      "            your code to use Python client v4 `weaviate.WeaviateClient` connections and methods.\n",
      "\n",
      "            For Python Client v4 usage, see: https://weaviate.io/developers/weaviate/client-libraries/python\n",
      "            For code migration, see: https://weaviate.io/developers/weaviate/client-libraries/python/v3_v4_migration\n",
      "            \n",
      "  warnings.warn(\n"
     ]
    }
   ],
   "source": [
    "api_key = os.environ[\"OPENAI_API_KEY\"]\n",
    "weaviate_url = os.environ[\"WEAVIATE_URL\"]\n",
    "\n",
    "client = weaviate.Client(\n",
    "    url=weaviate_url,  # Replace with your actual instance (e.g. url=\"http://localhost:8080/\", or \"https://your-endpoint.weaviate.network/\")\n",
    "    additional_headers={\n",
    "        \"X-OpenAI-API-Key\": api_key\n",
    "    }\n",
    ")"
   ]
  },
  {
   "cell_type": "code",
   "execution_count": 3,
   "metadata": {},
   "outputs": [],
   "source": [
    "# client.schema.delete_all()  # To wipe your instance clean"
   ]
  },
  {
   "cell_type": "code",
   "execution_count": 4,
   "metadata": {},
   "outputs": [
    {
     "name": "stdout",
     "output_type": "stream",
     "text": [
      "{\n",
      "  \"hostname\": \"http://[::]:8080\",\n",
      "  \"modules\": {\n",
      "    \"text2vec-openai\": {\n",
      "      \"documentationHref\": \"https://platform.openai.com/docs/guides/embeddings/what-are-embeddings\",\n",
      "      \"name\": \"OpenAI Module\"\n",
      "    }\n",
      "  },\n",
      "  \"version\": \"1.23.0\"\n",
      "}\n"
     ]
    }
   ],
   "source": [
    "def jprint(json_in):\n",
    "    import json\n",
    "    print(json.dumps(json_in, indent=2))\n",
    "\n",
    "jprint(client.get_meta())"
   ]
  },
  {
   "cell_type": "code",
   "execution_count": 5,
   "metadata": {},
   "outputs": [
    {
     "name": "stdout",
     "output_type": "stream",
     "text": [
      "{\n",
      "  \"classes\": []\n",
      "}\n"
     ]
    }
   ],
   "source": [
    "jprint(client.schema.get())"
   ]
  },
  {
   "cell_type": "code",
   "execution_count": 6,
   "metadata": {},
   "outputs": [],
   "source": [
    "def dataloader():\n",
    "    jobsdata_path = \"../data/all_nov_jobs.csv\"\n",
    "    df = pd.read_csv(jobsdata_path)\n",
    "    df = df.fillna(\"None\")  # Replace NaN values with \"None\"\n",
    "    df.replace([np.inf, -np.inf], \"None\", inplace=True)  # Replace infinite values with \"None\"\n",
    "    for _, row in df.iterrows():\n",
    "        data_obj = {\n",
    "            \"title\": row[\"title\"],\n",
    "            \"company\": row[\"company\"],\n",
    "            \"company_link\": row[\"company_link\"],\n",
    "            \"place\": row[\"place\"],\n",
    "            \"date\": row[\"date\"],\n",
    "            \"apply_link\": row[\"apply_link\"],\n",
    "            \"post_link\": row[\"post_link\"],\n",
    "            \"seniority_level\": row[\"seniority_level\"],\n",
    "            \"employment_type\": row[\"employmnet_type\"],\n",
    "            \"description\": row[\"description\"],\n",
    "            \"job_title_id\": row[\"job_title_id\"],\n",
    "            \"job_desc_id\": row[\"job_desc_id\"],\n",
    "        }\n",
    "        yield data_obj"
   ]
  },
  {
   "cell_type": "code",
   "execution_count": 7,
   "metadata": {},
   "outputs": [],
   "source": [
    "class_name = \"all_nov_jobs\""
   ]
  },
  {
   "cell_type": "code",
   "execution_count": 8,
   "metadata": {},
   "outputs": [],
   "source": [
    "class_obj = {\n",
    "    \"class\": class_name,\n",
    "    \"vectorizer\": \"text2vec-openai\",\n",
    "}\n",
    "\n",
    "client.schema.create_class(class_obj)"
   ]
  },
  {
   "cell_type": "code",
   "execution_count": 9,
   "metadata": {},
   "outputs": [
    {
     "name": "stdout",
     "output_type": "stream",
     "text": [
      "{\n",
      "  \"classes\": [\n",
      "    {\n",
      "      \"class\": \"All_nov_jobs\",\n",
      "      \"invertedIndexConfig\": {\n",
      "        \"bm25\": {\n",
      "          \"b\": 0.75,\n",
      "          \"k1\": 1.2\n",
      "        },\n",
      "        \"cleanupIntervalSeconds\": 60,\n",
      "        \"stopwords\": {\n",
      "          \"additions\": null,\n",
      "          \"preset\": \"en\",\n",
      "          \"removals\": null\n",
      "        }\n",
      "      },\n",
      "      \"moduleConfig\": {\n",
      "        \"text2vec-openai\": {\n",
      "          \"baseURL\": \"https://api.openai.com\",\n",
      "          \"model\": \"ada\",\n",
      "          \"modelVersion\": \"002\",\n",
      "          \"type\": \"text\",\n",
      "          \"vectorizeClassName\": true\n",
      "        }\n",
      "      },\n",
      "      \"multiTenancyConfig\": {\n",
      "        \"enabled\": false\n",
      "      },\n",
      "      \"properties\": [],\n",
      "      \"replicationConfig\": {\n",
      "        \"factor\": 1\n",
      "      },\n",
      "      \"shardingConfig\": {\n",
      "        \"virtualPerPhysical\": 128,\n",
      "        \"desiredCount\": 1,\n",
      "        \"actualCount\": 1,\n",
      "        \"desiredVirtualCount\": 128,\n",
      "        \"actualVirtualCount\": 128,\n",
      "        \"key\": \"_id\",\n",
      "        \"strategy\": \"hash\",\n",
      "        \"function\": \"murmur3\"\n",
      "      },\n",
      "      \"vectorIndexConfig\": {\n",
      "        \"skip\": false,\n",
      "        \"cleanupIntervalSeconds\": 300,\n",
      "        \"maxConnections\": 64,\n",
      "        \"efConstruction\": 128,\n",
      "        \"ef\": -1,\n",
      "        \"dynamicEfMin\": 100,\n",
      "        \"dynamicEfMax\": 500,\n",
      "        \"dynamicEfFactor\": 8,\n",
      "        \"vectorCacheMaxObjects\": 1000000000000,\n",
      "        \"flatSearchCutoff\": 40000,\n",
      "        \"distance\": \"cosine\",\n",
      "        \"pq\": {\n",
      "          \"enabled\": false,\n",
      "          \"bitCompression\": false,\n",
      "          \"segments\": 0,\n",
      "          \"centroids\": 256,\n",
      "          \"trainingLimit\": 100000,\n",
      "          \"encoder\": {\n",
      "            \"type\": \"kmeans\",\n",
      "            \"distribution\": \"log-normal\"\n",
      "          }\n",
      "        }\n",
      "      },\n",
      "      \"vectorIndexType\": \"hnsw\",\n",
      "      \"vectorizer\": \"text2vec-openai\"\n",
      "    }\n",
      "  ]\n",
      "}\n"
     ]
    }
   ],
   "source": [
    "jprint(client.schema.get())"
   ]
  },
  {
   "cell_type": "code",
   "execution_count": 10,
   "metadata": {},
   "outputs": [],
   "source": [
    "with client.batch as batch:  # Context manager manages batch flushing\n",
    "    batch.batch_size=50\n",
    "    batch.dynamic=True\n",
    "    for data_obj in dataloader():\n",
    "        batch.add_data_object(\n",
    "            data_obj, \n",
    "            class_name\n",
    "        )"
   ]
  },
  {
   "cell_type": "code",
   "execution_count": 11,
   "metadata": {},
   "outputs": [
    {
     "name": "stdout",
     "output_type": "stream",
     "text": [
      "{\n",
      "  \"title\": \"Software Engineer II - C/C++/OS\",\n",
      "  \"company\": \"Microsoft\",\n",
      "  \"company_link\": \"https://www.linkedin.com/company/1035/\",\n",
      "  \"place\": \"Maine, United States Remote\",\n",
      "  \"date\": \"2022-11-04\",\n",
      "  \"apply_link\": \"https://careers.microsoft.com/us/en/job/1454432/Software-Engineer-II-C-C-OS?jobsource=linkedin&utm_source=linkedin&utm_medium=linkedin&utm_campaign=linkedin-feed\",\n",
      "  \"post_link\": \"https://www.linkedin.com/jobs/view/3342681548/?eBP=JOB_SEARCH_ORGANIC&recommendedFlavor=IN_NETWORK&refId=Ww0RUXjRPh5ffnUwKmZ9VA%3D%3D&trackingId=vO8wOxIoXKrMhh4Ac9LkGQ%3D%3D&trk=flagship3_search_srp_jobs\",\n",
      "  \"seniority_level\": \" Entry level\",\n",
      "  \"employment_type\": \"Full-time \",\n",
      "  \"description\": \"Azure Edge + Platform brings together Edge platforms, devices, and services to deliver Edge solutions, operating systems, and engineering systems. Driven by its customers\\u2019 needs, Azure Edge + Platform seeks to accelerate growth for Azure, E&D, and Microsoft\\u2019s customers worldwide.\\u202f\\u202f\\n\\n\\u202f\\n\\nThe organization\\u2019s portfolio spans the Cloud Edge Stack, Azure Engineering Systems, Azure Media Services - for end-to-end media workflow and analytics - and Microsoft\\u2019s Operating Systems including the Azure Host OS and Windows. This portfolio impressively powers the world with more than one billion monthly active devices.\\u202f\\n\\n\\u202f\\n\\nWe\\u2019re seeking a a strong Software Engineer 2 for our project to componentize and layer the Windows OS.\\u202f The team has a proven track record of delivering disruptive improvements to the architecture of Windows, including OneCore and OS layers, API sets, Flexible Linking, and State Separation.\\u202f But we still see great potential to improve our architecture and deliver the next generation of componentization and layering investments to increase Microsoft\\u2019s agility and efficiency as we continue to drive innovation into the Azure Host, IoT, Windows Server and Windows clients.\\u202f\\n\\nResponsibilities\\n\\nBreak down complex, interconnected systems to identify improvements\\nDefine highly coherent packages of Windows binaries and settings and author test automation to keep them healthy\\nCollaborate across boundaries to evangelize our architectural vision, get teams moving toward that vision, and resolve issues discovered during componentization efforts\\nDeliver customer-focused innovation for Client and Server through componentization and a persistent drive\\n\\nQualifications\\n\\nRequired Qualifications\\u202f\\u202f\\n\\nA BS/MS in Computer Science or equivalent experience\\n3+ years of software development/design experience.\\n2 years of coding skills in C/C++/C#\\n\\nPreferred Qualifications\\u202f\\u202f\\n\\nFantastic problem solving, debugging and troubleshooting skills\\nExperience with operating systems and/or containers\\nSolid communication and collaboration skills\\n\\nAbility to meet Microsoft, customer and/or government security screening requirements are required for this role. These requirements include, but are not limited to, the following specialized security screenings:\\u202f\\n\\nMicrosoft Cloud Background Check: This position will be required to pass the Microsoft Cloud background check upon hire/transfer and every two years thereafter\\u202f\\n\\nThe salary for this role in the state of Colorado is between $121,800-$182,600.\\n\\nAt Microsoft, certain roles are eligible for additional rewards, including annual bonus and stock. These awards are allocated based on individual performance. In addition, certain roles also have the opportunity to earn sales incentives based on revenue or utilization, depending on the terms of the plan and the employee\\u2019s role.\\n\\nBenefits/perks listed here may vary depending on the nature of your employment with Microsoft and the country where you work. US-based employees gain access to healthcare benefits, a 401(k) plan and company match, short-term and long-term disability coverage, basic life insurance, and fitness benefits, among others.\\n\\nMicrosoft is an equal opportunity employer. All qualified applicants will receive consideration for employment without regard to age, ancestry, color, family or medical care leave, gender identity or expression, genetic information, marital status, medical condition, national origin, physical or mental disability, political affiliation, protected veteran status, race, religion, sex (including pregnancy), sexual orientation, or any other characteristic protected by applicable laws, regulations and ordinances. We also consider qualified applicants regardless of criminal histories, consistent with legal requirements. If you need assistance and/or a reasonable accommodation due to a disability during the application or the recruiting process, please send a request via the Accommodation request form.\\n\\nBenefits/perks listed below may vary depending on the nature of your employment with Microsoft and the country where you work.\",\n",
      "  \"job_title_id\": 3,\n",
      "  \"job_desc_id\": 194\n",
      "}\n"
     ]
    }
   ],
   "source": [
    "jprint(data_obj)"
   ]
  },
  {
   "cell_type": "code",
   "execution_count": 12,
   "metadata": {},
   "outputs": [
    {
     "name": "stdout",
     "output_type": "stream",
     "text": [
      "{\n",
      "  \"data\": {\n",
      "    \"Aggregate\": {\n",
      "      \"All_nov_jobs\": [\n",
      "        {\n",
      "          \"meta\": {\n",
      "            \"count\": 16838\n",
      "          }\n",
      "        }\n",
      "      ]\n",
      "    }\n",
      "  }\n",
      "}\n"
     ]
    }
   ],
   "source": [
    "jprint(client.query.aggregate(class_name).with_meta_count().do())"
   ]
  },
  {
   "cell_type": "code",
   "execution_count": 13,
   "metadata": {},
   "outputs": [
    {
     "name": "stdout",
     "output_type": "stream",
     "text": [
      "{\n",
      "  \"data\": {\n",
      "    \"Get\": {\n",
      "      \"All_nov_jobs\": [\n",
      "        {\n",
      "          \"_additional\": {\n",
      "            \"distance\": 0.122837186,\n",
      "            \"id\": \"8bb6d017-cd18-425c-8e6f-26713ce9c9dd\"\n",
      "          },\n",
      "          \"description\": \"A Software Engineer is a highly skilled software developer with expert knowledge in at least one department or system. They work with a high degree of independence and develop information systems to support the business. Engineers are primarily focused on the design or integration of various software systems, databases, and third-party packages.\\n\\nEssential Job Functions\\n\\nGenerally, takes leadership role in guiding projects through the complete software development life cycle\\nSolid understanding of secure coding techniques and best practices\\nResponsible for multiple software applications\\nManage tasks and resources while utilizing modern project management principles\\nParticipate or lead the development of multiple projects at one time\\nConducts code reviews and ensures coding best practices are being followed\\nRecommend software improvements and changes to systems, as needed\\n\\nSkills And Qualifications\\n\\nJava experience (3+ years) JAVA 8 and above\\nStruts, Spring, Hibernate and other Java framework experience\\nLinux/Unix experience\\nAgile Development Methodology experience\\nAble to work with core front end and middleware technologies, including XML, HTML5, JavaScript, JSON, jQuery, Ajax, SQL and Spring frameworks\\nAdvanced understanding of change management and the O'Reilly change control process and procedures\\nAdvanced knowledge of Project Development Life Cycle (PDLC) and Software Development Life Cycle (SDLC)\\nAdvanced understanding of the software and system(s) supported by their team, as well as the overall company business\\nAbility to articulate advanced technical concepts and teach others\\nExpert software debugging and testing knowledge\\nAdvanced understanding of complex computer systems (multiple programs, databases, communications etc)\\nAdvanced knowledge of programming, database systems, and systems analysis and design\\nAbility to write advanced technical documentation\\nAdvanced problem-solving skills\\n\\nBenefits\\n\\nAll full time team members are eligible for a benefits package that is designed to offer convenience and security to our team members and their families. Programs, resources and benefit eligibility varies based on employment status, average hours worked, location and length of service. For detailed benefits info, please click here or type http://bit.ly/ORLYBenefits in your browser.\\n\\nCompensation Range\\n\\n$95,000.00 - $122,000.00 annually, pay will be based upon applicable experience, training and skills\\n\\nBonus\\n\\nThis job is eligible for an annual cash bonus based on individual goal achievement.\",\n",
      "          \"place\": \"Springfield, MO Remote\",\n",
      "          \"title\": \"Full Stack Developer\"\n",
      "        },\n",
      "        {\n",
      "          \"_additional\": {\n",
      "            \"distance\": 0.122837186,\n",
      "            \"id\": \"5be282d6-96b9-44f2-bc94-2eec0960d42f\"\n",
      "          },\n",
      "          \"description\": \"A Software Engineer is a highly skilled software developer with expert knowledge in at least one department or system. They work with a high degree of independence and develop information systems to support the business. Engineers are primarily focused on the design or integration of various software systems, databases, and third-party packages.\\n\\nEssential Job Functions\\n\\nGenerally, takes leadership role in guiding projects through the complete software development life cycle\\nSolid understanding of secure coding techniques and best practices\\nResponsible for multiple software applications\\nManage tasks and resources while utilizing modern project management principles\\nParticipate or lead the development of multiple projects at one time\\nConducts code reviews and ensures coding best practices are being followed\\nRecommend software improvements and changes to systems, as needed\\n\\nSkills And Qualifications\\n\\nJava experience (3+ years) JAVA 8 and above\\nStruts, Spring, Hibernate and other Java framework experience\\nLinux/Unix experience\\nAgile Development Methodology experience\\nAble to work with core front end and middleware technologies, including XML, HTML5, JavaScript, JSON, jQuery, Ajax, SQL and Spring frameworks\\nAdvanced understanding of change management and the O'Reilly change control process and procedures\\nAdvanced knowledge of Project Development Life Cycle (PDLC) and Software Development Life Cycle (SDLC)\\nAdvanced understanding of the software and system(s) supported by their team, as well as the overall company business\\nAbility to articulate advanced technical concepts and teach others\\nExpert software debugging and testing knowledge\\nAdvanced understanding of complex computer systems (multiple programs, databases, communications etc)\\nAdvanced knowledge of programming, database systems, and systems analysis and design\\nAbility to write advanced technical documentation\\nAdvanced problem-solving skills\\n\\nBenefits\\n\\nAll full time team members are eligible for a benefits package that is designed to offer convenience and security to our team members and their families. Programs, resources and benefit eligibility varies based on employment status, average hours worked, location and length of service. For detailed benefits info, please click here or type http://bit.ly/ORLYBenefits in your browser.\\n\\nCompensation Range\\n\\n$95,000.00 - $122,000.00 annually, pay will be based upon applicable experience, training and skills\\n\\nBonus\\n\\nThis job is eligible for an annual cash bonus based on individual goal achievement.\",\n",
      "          \"place\": \"Springfield, MO Remote\",\n",
      "          \"title\": \"Full Stack Developer\"\n",
      "        },\n",
      "        {\n",
      "          \"_additional\": {\n",
      "            \"distance\": 0.12520194,\n",
      "            \"id\": \"2eb042f2-1346-4f70-9f71-eab3a2ed5e55\"\n",
      "          },\n",
      "          \"description\": \"A Software Engineer is a highly skilled software developer with expert knowledge in at least one department or system. They work with a high degree of independence and develop information systems to support the business. Engineers are primarily focused on the design or integration of various software systems, databases, and third-party packages.\\n\\nEssential Job Functions\\n\\nGenerally, takes leadership role in guiding projects through the complete software development life cycle\\nSolid understanding of secure coding techniques and best practices\\nResponsible for multiple software applications\\nManage tasks and resources while utilizing modern project management principles\\nParticipate or lead the development of multiple projects at one time\\nConducts code reviews and ensures coding best practices are being followed\\nRecommend software improvements and changes to systems, as needed\\n\\nSkills And Qualifications\\n\\nJava experience (3+ years) JAVA 8 and above\\nStruts, Spring, Hibernate and other Java framework experience\\nLinux/Unix experience\\nAgile Development Methodology experience\\nAble to work with core front end and middleware technologies, including XML, HTML5, JavaScript, JSON, jQuery, Ajax, SQL and Spring frameworks\\nAdvanced understanding of change management and the O'Reilly change control process and procedures\\nAdvanced knowledge of Project Development Life Cycle (PDLC) and Software Development Life Cycle (SDLC)\\nAdvanced understanding of the software and system(s) supported by their team, as well as the overall company business\\nAbility to articulate advanced technical concepts and teach others\\nExpert software debugging and testing knowledge\\nAdvanced understanding of complex computer systems (multiple programs, databases, communications etc)\\nAdvanced knowledge of programming, database systems, and systems analysis and design\\nAbility to write advanced technical documentation\\nAdvanced problem-solving skills\\n\\nBenefits\\n\\nAll full time team members are eligible for a benefits package that is designed to offer convenience and security to our team members and their families. Programs, resources and benefit eligibility varies based on employment status, average hours worked, location and length of service. For detailed benefits info, please click here or type http://bit.ly/ORLYBenefits in your browser.\\n\\nCompensation Range\\n\\n$95,000.00 - $122,000.00 annually, pay will be based upon applicable experience, training and skills\\n\\nBonus\\n\\nThis job is eligible for an annual cash bonus based on individual goal achievement.\",\n",
      "          \"place\": \"Springfield, MO Remote\",\n",
      "          \"title\": \"Software Engineer - Backend Product\"\n",
      "        },\n",
      "        {\n",
      "          \"_additional\": {\n",
      "            \"distance\": 0.12998295,\n",
      "            \"id\": \"0f68bc79-61a7-47c5-8c50-783c53487f50\"\n",
      "          },\n",
      "          \"description\": \"A Software Engineer is a highly skilled software developer with expert knowledge in at least one department or system. They work with a high degree of independence and develop information systems to support the business. Engineers are primarily focused on the design or integration of various software systems, databases, and third-party packages.\\n\\nEssential Job Functions\\n\\nGenerally takes leadership role in guiding projects through the complete software development life cycle\\nTypical focus is on code design efforts\\nSolid understanding of secure coding techniques and best practices\\nResponsible (takes ownership) for multiple software applications\\nManage tasks and resources while utilizing modern project management principles\\nParticipate or lead the development of multiple projects at one time\\nConducts code reviews and ensures coding best practices are being followed\\nRecommend software improvements and changes to systems, as needed\\nMay approve software to be deployed to production systems\\nPerform software and data analysis to uncover issues and solve complicated problems that typically span multiple systems\\nLead various meetings to gather software requirements and project details\\nConduct software demo's to educate and train others in the use of software\\nDebug and correct complex software defects\\nDevelop new or modify existing software using coding best practices\\nCreate or update advanced project documentation\\nTest software to validate accuracy of code and high quality software systems\\n\\nSkills And Qualifications\\n\\n4+ years of software development experience\\nAdvanced understanding of change management and the O'Reilly change control process and procedures\\nAdvanced knowledge of Project Development Life Cycle (PDLC) and Software Development Life Cycle (SDLC)\\nAdvanced understanding of the software and system(s) supported by their team, as well as the overall company business\\nAbility to lead and get results from others\\nAbility to articulate advanced technical concepts and teach others\\nAbility to effectively multitask\\nExpert software debugging and testing knowledge\\nAdvanced understanding of complex computer systems (multiple programs, databases, communications etc)\\nAdvanced knowledge of programming, database systems, and systems analysis and design\\nAbility to write advanced technical documentation\\nAdvanced problem-solving skills\\nGood verbal and written communications skills\\nMust work well in a team environment,\\nAbility to learn independently\\nExperience with SEO best practices\\nWillingness to work flexible schedule including nights/weekends\\nHigh School diploma or equivalent\\n\\nBenefits\\n\\nAll full time team members are eligible for a benefits package that is designed to offer convenience and security to our team members and their families. Programs, resources and benefit eligibility varies based on employment status, average hours worked, location and length of service. For detailed benefits info, please click here or type http://bit.ly/ORLYBenefits in your browser.\\n\\nCompensation Range\\n\\n$95,000.00 - $122,000.00 annually, pay will be based upon applicable experience, training and skills\\n\\nBonus\\n\\nThis job is eligible for an annual cash bonus based on individual goal achievement.\",\n",
      "          \"place\": \"Springfield, MO Remote\",\n",
      "          \"title\": \"Distributed Systems Software Engineer, PL Network\"\n",
      "        },\n",
      "        {\n",
      "          \"_additional\": {\n",
      "            \"distance\": 0.13197815,\n",
      "            \"id\": \"bcb30326-1f66-486e-acef-f66d99ed92a7\"\n",
      "          },\n",
      "          \"description\": \"A Software Engineer - Enterprise Search is a highly skilled software developer with expert knowledge in at least one department or system. They work with a high degree of independence and develop information systems to support the business. Engineers are primarily focused on the design or integration of various software systems, databases, and third-party packages.\\n\\nEssential Job Functions\\n\\nGenerally takes leadership role in guiding projects through the complete software development life cycle\\nTypical focus is on code design efforts\\nSolid understanding of secure coding techniques and best practices\\nResponsible (takes ownership) for multiple software applications\\nManage tasks and resources while utilizing modern project management principles\\nParticipate or lead the development of multiple projects at one time\\nConducts code reviews and ensures coding best practices are being followed\\nRecommend software improvements and changes to systems, as needed\\nMay approve software to be deployed to production systems\\nPerform software and data analysis to uncover issues and solve complicated problems that typically span multiple systems\\nLead various meetings to gather software requirements and project details\\nConduct software demo's to educate and train others in the use of software\\nDebug and correct complex software defects\\nDevelop new or modify existing software using coding best practices\\nCreate or update advanced project documentation\\nTest software to validate accuracy of code and high quality software systems\\n\\nSkills And Qualifications\\n\\n4+ years of software development experience\\nAdvanced understanding of change management and the O'Reilly change control process and procedures\\nAdvanced knowledge of Project Development Life Cycle (PDLC) and Software Development Life Cycle (SDLC)\\nAdvanced understanding of the software and system(s) supported by their team, as well as the overall company business\\nAbility to lead and get results from others\\nAbility to articulate advanced technical concepts and teach others\\nAbility to effectively multitask\\nExpert software debugging and testing knowledge\\nAdvanced understanding of complex computer systems (multiple programs, databases, communications etc)\\nAdvanced knowledge of programming, database systems, and systems analysis and design\\nAbility to write advanced technical documentation\\nAdvanced problem-solving skills\\nGood verbal and written communications skills\\nMust work well in a team environment,\\nAbility to learn independently\\nExperience with SEO best practices\\nWillingness to work flexible schedule including nights/weekends\\nHigh School diploma or equivalent\\n\\nBenefits\\n\\nAll full time team members are eligible for a benefits package that is designed to offer convenience and security to our team members and their families. Programs, resources and benefit eligibility varies based on employment status, average hours worked, location and length of service. For detailed benefits info, please click here or type http://bit.ly/ORLYBenefits in your browser.\\n\\nCompensation Range\\n\\n$95,000.00 - $122,000.00 annually, pay will be based upon applicable experience, training and skills\\n\\nBonus\\n\\nThis job is eligible for an annual cash bonus based on individual goal achievement.\",\n",
      "          \"place\": \"Springfield, MO Remote\",\n",
      "          \"title\": \"Software Engineer, Payments\"\n",
      "        }\n",
      "      ]\n",
      "    }\n",
      "  }\n",
      "}\n"
     ]
    }
   ],
   "source": [
    "results = client.query.get(\n",
    "    class_name, [\"title\", \"place\", \"description\"]\n",
    ").with_near_text(\n",
    "    {\"concepts\": [\"software engineer\"]}\n",
    ").with_additional(\n",
    "    [\"distance\", \"id\"]\n",
    ").with_limit(5).do()\n",
    "jprint(results)"
   ]
  }
 ],
 "metadata": {
  "kernelspec": {
   "display_name": ".venv",
   "language": "python",
   "name": "python3"
  },
  "language_info": {
   "codemirror_mode": {
    "name": "ipython",
    "version": 3
   },
   "file_extension": ".py",
   "mimetype": "text/x-python",
   "name": "python",
   "nbconvert_exporter": "python",
   "pygments_lexer": "ipython3",
   "version": "3.11.2"
  }
 },
 "nbformat": 4,
 "nbformat_minor": 2
}
