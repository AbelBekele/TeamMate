{
 "cells": [
  {
   "cell_type": "code",
   "execution_count": 2,
   "metadata": {},
   "outputs": [],
   "source": [
    "import os\n",
    "from langchain_core.prompts import ChatPromptTemplate\n",
    "from langchain_groq import ChatGroq"
   ]
  },
  {
   "cell_type": "code",
   "execution_count": 3,
   "metadata": {},
   "outputs": [],
   "source": [
    "api_key=os.environ.get(\"GROQ_API_KEY\")\n",
    "\n",
    "chat = ChatGroq(temperature=0, model_name=\"mixtral-8x7b-32768\")\n"
   ]
  },
  {
   "cell_type": "code",
   "execution_count": 4,
   "metadata": {},
   "outputs": [],
   "source": [
    "chat = ChatGroq(temperature=0, groq_api_key=api_key, model_name=\"mixtral-8x7b-32768\")"
   ]
  },
  {
   "cell_type": "code",
   "execution_count": 5,
   "metadata": {},
   "outputs": [
    {
     "data": {
      "text/plain": [
       "AIMessage(content='Sure, I\\'d be happy to explain!\\n\\nLLM stands for \"Low Latency Logging,\" which is a method of recording and transmitting data with minimal delay. Low latency LLMs are particularly important in time-sensitive applications where real-time data processing is critical. Here are some reasons why low latency LLMs are important:\\n\\n1. Improved user experience: In applications such as online gaming or video conferencing, low latency LLMs ensure that data is transmitted and processed quickly, resulting in a smoother and more responsive user experience.\\n2. Increased efficiency: Low latency LLMs enable faster data processing, which can lead to increased efficiency in data-intensive applications such as financial trading or scientific simulations.\\n3. Enhanced security: In security-critical applications, low latency LLMs can help detect and respond to threats more quickly, reducing the risk of data breaches or other security incidents.\\n4. Better decision-making: In real-time decision-making scenarios, low latency LLMs can provide decision-makers with up-to-the-minute data, enabling them to make more informed and timely decisions.\\n5. Improved reliability: Low latency LLMs can help ensure that data is transmitted and processed consistently and reliably, reducing the risk of data loss or corruption.\\n\\nOverall, low latency LLMs are essential in applications where real-time data processing is critical. By minimizing delay and ensuring fast and reliable data transmission, low latency LLMs can help improve user experience, increase efficiency, enhance security, enable better decision-making, and improve reliability.', response_metadata={'token_usage': {'completion_time': 0.653784302, 'completion_tokens': 348, 'prompt_time': 0.00635331, 'prompt_tokens': 26, 'queue_time': None, 'total_time': 0.660137612, 'total_tokens': 374}, 'model_name': 'mixtral-8x7b-32768', 'system_fingerprint': 'fp_db3d7402ee', 'finish_reason': 'stop', 'logprobs': None}, id='run-bfcdab52-72ca-4b70-afd3-bf3b278ccb23-0')"
      ]
     },
     "execution_count": 5,
     "metadata": {},
     "output_type": "execute_result"
    }
   ],
   "source": [
    "system = \"You are a helpful assistant.\"\n",
    "human = \"{text}\"\n",
    "prompt = ChatPromptTemplate.from_messages([(\"system\", system), (\"human\", human)])\n",
    "\n",
    "chain = prompt | chat\n",
    "\n",
    "chain.invoke({\"text\": \"Explain the importance of low latency LLMs.\"})"
   ]
  },
  {
   "cell_type": "code",
   "execution_count": 12,
   "metadata": {},
   "outputs": [],
   "source": [
    "from langchain_core.pydantic_v1 import BaseModel, Field\n",
    "\n",
    "\n",
    "class Score(BaseModel):\n",
    "    score: int = Field(description=\"The score of the job\")\n",
    "    skills: str = Field(description=\"The skills required for the job\")\n",
    "    recommendation: str = Field(description=\"The recommendation for the job\")"
   ]
  },
  {
   "cell_type": "code",
   "execution_count": 13,
   "metadata": {},
   "outputs": [],
   "source": [
    "model = ChatGroq()\n",
    "structured_llm = model.with_structured_output(Score)"
   ]
  },
  {
   "cell_type": "code",
   "execution_count": 14,
   "metadata": {},
   "outputs": [
    {
     "data": {
      "text/plain": [
       "Score(score=10, skills='comedy', recommendation='joke')"
      ]
     },
     "execution_count": 14,
     "metadata": {},
     "output_type": "execute_result"
    }
   ],
   "source": [
    "structured_llm.invoke(\"Tell me a joke about cats\")"
   ]
  },
  {
   "cell_type": "code",
   "execution_count": 32,
   "metadata": {},
   "outputs": [],
   "source": [
    "from langchain_groq import ChatGroq\n",
    "from langchain_core.pydantic_v1 import BaseModel\n",
    "from langchain_core.utils.function_calling import convert_to_openai_tool\n",
    "\n",
    "class AnswerWithJustification(BaseModel):\n",
    "    '''You are an ai assistant that scores a job match for the job seeker and give scoring, recommendation on what to include in application and skills required.  By reading between the lines, analyzing required skills, understanding responsibilities, decoding industry language, and researching the company, identify roles that align with the skills, interests, and career goals of provided CV. CAREFULLY MATCH LOCATION REQIUREMENT, LANGUAGE AND YEARS OF EXPERIENCE. To score a job match, consider the following: Location and Language Requirements - check if the job seeker's location aligns with the job's remote or relocation needs and if they meet the language proficiency required. Experience and Educational Background - compare the job seeker's years of experience and educational qualifications with the job's requirements, scoring higher for closer matches. Technical Skills and Tools - evaluate the job seeker's proficiency in required and preferred technical skills and tools, giving higher scores for strong alignment. Consider these factors holistically to provide a comprehensive match score and recommendations for improvement.'''\n",
    "    Score: int\n",
    "    Skills: str\n",
    "    Recommendation: str\n",
    "\n",
    "dict_schema = convert_to_openai_tool(AnswerWithJustification)\n",
    "llm = ChatGroq(temperature=0)\n",
    "structured_llm = llm.with_structured_output(dict_schema)"
   ]
  },
  {
   "cell_type": "code",
   "execution_count": 36,
   "metadata": {},
   "outputs": [
    {
     "data": {
      "text/plain": [
       "{'Recommendation': 'I recommend Abel Bekele for the Work from Home - Remote AI Training for Thai Writers role at Outlier. His skills in ML, NLP, and software development, as well as his experience as a full-stack engineer and MLOps engineer, make him a strong candidate for this role.',\n",
       " 'Score': 85,\n",
       " 'Skills': 'ML, NLP, software development, full-stack engineering, MLOps, AI training'}"
      ]
     },
     "execution_count": 36,
     "metadata": {},
     "output_type": "execute_result"
    }
   ],
   "source": [
    "structured_llm.invoke(\"CV- Abel Bekele Generative AI Engineer Generative AI Engineer with 2+ years of experience in ML, NLP, and software development. Proficient in fine-tuning LLMs, developing RAG systems, and prompt engineering. Skilled in Python, SQL, React, vector databases, and ML frameworks like TensorFlow and PyTorch. Strong background in full-stack development and MLOps. Adept at integrating ML/LLM models into web apps and optimizing pipelines for performance and efficiency. CONTACT abelbekele.addise@gmail.com Addis Ababa, Ethiopia +251985197106 github.com/AbelBekele linkedin.com/in/abelbekelemedium. com/@abelbekele.addise www.abelbekele.com, Language-English SKILLS • RAG-Pipeline • Fine-tuning • Tokenization • Prompt design • Embedding • Langchain • Python • SQL • Git • React • TensorFlow • CI/CD pipeline WORK EXPERIENCE Tsiune Technologies, Addis Ababa, Ethiopia MLOps Engineer 02/2023 – Present • Improved tender file processing efficiency by 30%, reducing manual effort from 20 hours to 14 hours per week, by implementing a RAG system that extracts requirements, enables deadline tracking and highlights special attention items. • Enhanced model accuracy from 80% to 96% and reduced time-to-market from 8 weeks to 6 weeks through proactive monitoring, seamless integration of ML models into web apps, and streamlining ML pipelines with automated deployments. • Boosted customer engagement by 25% by successfully integrating ML models into web applications, providing a more personalized and interactive user experience. RDX Delta Rabbit Technologies, Addis Ababa, Ethiopia Full Stack Engineer 09/2022 – 06/2023 • Designed and implemented a scalable education web app as a backend engineer, creating robust infrastructure, efficient APIs, and optimizing performance and security, resulting in a seamless online learning and collaboration platform. • Developed and deployed a secure work management tool on AWS, increasing efficiency by 40% and streamlining access to confidential work files for 80 authorized users, ensuring data protection and ease of access. • Mentored junior developers, providing technical guidance and support, resulting in a 20% improvement in team productivity and fostering professional growth. MKTY IT Services, Addis Ababa, Ethiopia Software Engineer 08/2021 – 10/2022 • Integrated open-source ERP with time attendance machine using MySQL at Grand Courses: Palace Administrations of Ethiopia, enhancing workforce management efficiency by 30% for 200 employees and streamlining attendance tracking processes, reducing manual errors by 5%. • Designed, implemented, and launched a comprehensive network infrastructure for a multi-purpose mall using advanced software technologies, improving connectivity and user experience by 25%, leading to increased customer satisfaction & retention. EDUCATION Generative AI 10 Academy California, USA — 03/2024 Software Engineering ALX Africa Nairobi, Kenya — 11/2023 Mechatronics Engineering Hawassa University Hawassa, Ethiopia — 01/2021 • Calculus • Numerics for engineering • Statistics • Linear Algebra • Database • Data Structure • OOP (Object oriented programming) PROJECTS Contract Advisor RAG System • A RAG system for Contract Q&A integrates LLMs and external data, chunking and indexing contracts for precise retrieval. It revolutionizes contract management with accurate, context-rich answers to complex queries. Automated Storyboard Generator • An AI-powered Automated Storyboard Generator translates textual ad concepts into visually compelling storyboards, leveraging NLP, computer vision, and image generation models for impactful campaigns. LLM-Powered Data Visualizer using Redash • Redash add-on that combines Flask, PostgreSQL, and OpenAI's GPT-3.5 Turbo for advanced data analytics. It enables non-technical users to easily fetch and visualize data using natural language processing and SQL translation. Streamlined LLM Prompt Engineering • Streamlining Prompt Engineering and Enhancing User Interactions with Language Models (LLMs) through Automatic Prompt Generation, Evaluation Data Generation, and Prompt Testing and Ranking. JOB_DESCRIPTION - Work from Home - Remote AI Training for Thai Writers Outlier Munich, Bavaria, Germany 5 hours ago Be among the first 25 applicants See who Outlier has hired for this role Apply Join or sign in to find your next job Join to apply for the Work from Home - Remote AI Training for Thai Writers role at Outlier Not you? Remove photo First name Last name Email Password (6+ characters) By clicking Agree & Join, you agree to the LinkedIn User Agreement , Privacy Policy and Cookie Policy . Continue Agree & Join or Apply on company website Security verification Already on LinkedIn? Sign in Save Save job Save this job with your existing LinkedIn profile, or create a new one. Your job seeking activity is only visible to you. Email Continue Welcome back Sign in to save Work from Home - Remote AI Training for Thai Writers at Outlier . Email or phone Password Show Forgot password? Sign in Report this job FOR FLUENT THAI WRITERS ONLY Are you interested in helping to train AI models to become better writers? How It Works We have several open projects where we are looking for talented writers to help train generative artificial intelligence models to become better writers. You can work on all of our projects remotely. Hours are flexible, so you can work whenever is best for you. Your earnings from ongoing projects are sent out weekly. You Will Work on various writing in Thai projects to train generative AI models. Some examples of projects you might work on: Rank a series of responses that were produced by an AI model. Based on a given topic, write a short story about that topic. Assess whether a piece of text produced by an AI model is factually accurate or not. Preferred Qualifications These are NOT must-have qualifications! You should apply if you meet any of these (or anything similar you think makes you a good fit). Professional Translator Enrollment or completion of an undergraduate program in a humanities field or field related to writing Enrollment or completion in a graduate program related to creative writing Experience writing professionally (copywriter, journalist, technical writer, editor, etc.) Earnings & Duration Base Pay Rate: from $7.50-$10 per hour Location: Remote (Globally) Countries: Thailand or previously lived in Thailand 2+ years is preferred Duration: Variable depending on project length, flexible hours This opportunity involves contracting for Smart Ecosystem, Inc. Base pay is determined by multiple factors, including the area of expertise, years of experience, and skillset needed for the project. Pay rates vary during the project lifecycle. For example, rates for onboarding are lower. PLEASE NOTE : We collect, retain and use personal data for our professional business purposes, including notifying you of job opportunities that may be of interest and sharing with our affiliates. We limit the personal data we collect to that which we believe is appropriate and necessary to manage applicants’ needs, provide our services, and comply with applicable laws. Any information we collect in connection with your application will be treated in accordance with our internal policies and programs designed to protect personal data. Show more Show less Seniority level Not Applicable Employment type Full-time Job function Other Industries Software Development Referrals increase your chances of interviewing at Outlier by 2x See who you know\")"
   ]
  },
  {
   "cell_type": "code",
   "execution_count": null,
   "metadata": {},
   "outputs": [],
   "source": []
  }
 ],
 "metadata": {
  "kernelspec": {
   "display_name": ".venv",
   "language": "python",
   "name": "python3"
  },
  "language_info": {
   "codemirror_mode": {
    "name": "ipython",
    "version": 3
   },
   "file_extension": ".py",
   "mimetype": "text/x-python",
   "name": "python",
   "nbconvert_exporter": "python",
   "pygments_lexer": "ipython3",
   "version": "3.8.17"
  }
 },
 "nbformat": 4,
 "nbformat_minor": 2
}
